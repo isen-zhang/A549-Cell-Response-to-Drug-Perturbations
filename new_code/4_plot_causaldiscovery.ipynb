{
 "cells": [
  {
   "cell_type": "code",
   "execution_count": null,
   "metadata": {},
   "outputs": [],
   "source": [
    "import os\n",
    "import numpy as np\n",
    "import pandas as pd\n",
    "import scanpy as sc\n",
    "import matplotlib.pyplot as plt\n",
    "import seaborn as sns\n",
    "from matplotlib.colors import LinearSegmentedColormap\n",
    "from adjustText import adjust_text\n",
    "\n",
    "# 设置绘图参数\n",
    "sc.settings.set_figure_params(dpi=100, frameon=False)\n",
    "plt.rcParams['figure.figsize'] = (10, 8)\n",
    "sns.set_style(\"whitegrid\")\n",
    "\n",
    "# 读取已有的数据\n",
    "combined_data_file = \"a549_combined_data.h5ad\"\n",
    "combined = sc.read_h5ad(combined_data_file)\n",
    "sc.pp.filter_cells(combined, min_genes=200)\n",
    "sc.pp.filter_genes(combined, min_cells=100)\n",
    "print(f\"Combined data shape: {combined.shape}\")\n",
    "\n",
    "# 过滤掉'unsure'药物类型的细胞\n",
    "combined = combined[combined.obs['drug'] != 'unsure']\n",
    "print(f\"Filtered data shape: {combined.shape}\")\n",
    "\n",
    "# 检查药物种类\n",
    "print(f\"Available drugs: {combined.obs['drug'].unique()}\")\n",
    "print(f\"Number of drugs: {combined.obs['drug'].nunique()}\")"
   ]
  },
  {
   "cell_type": "code",
   "execution_count": 2,
   "metadata": {},
   "outputs": [],
   "source": [
    "results_dir = \"a549_perturbation_analysis_loka\"\n",
    "fig_dir = os.path.join(results_dir, \"figures_cd\")\n",
    "os.makedirs(fig_dir, exist_ok=True)"
   ]
  },
  {
   "cell_type": "code",
   "execution_count": null,
   "metadata": {},
   "outputs": [],
   "source": [
    "print(combined.obs['drug'].unique().tolist(), combined.obs['perturbation'].unique().tolist())"
   ]
  },
  {
   "cell_type": "code",
   "execution_count": null,
   "metadata": {},
   "outputs": [],
   "source": [
    "combined = combined[combined.obs['drug'] != 'control']\n",
    "print(f\"Filtered data shape: {combined.shape}\")"
   ]
  },
  {
   "cell_type": "code",
   "execution_count": null,
   "metadata": {},
   "outputs": [],
   "source": [
    "grok_gene = pd.read_csv(\"a549_perturbation_analysis_loka/Bexmarilimab_Related_Genes_grok.csv\")\n",
    "grok_g = grok_gene['Ensembl ID'].tolist() \n",
    "# 遍历DataFrame的每一行\n",
    "\n",
    "my_dict = {}\n",
    "for index, row in grok_gene.iterrows():\n",
    "    # 这里可以通过row['列名']访问每一列的数据\n",
    "    gene_id = row['Gene Name']\n",
    "    ensenbl_id = row['Ensembl ID']\n",
    "    my_dict[ensenbl_id] = gene_id\n",
    "\n",
    "grok_gene.head()"
   ]
  },
  {
   "cell_type": "code",
   "execution_count": null,
   "metadata": {},
   "outputs": [],
   "source": [
    "import os\n",
    "import glob\n",
    "import pandas as pd \n",
    "import scanpy as sc\n",
    "import numpy as np\n",
    "import scipy.sparse\n",
    "\n",
    "# Find all .csv files in the directory\n",
    "csv_files = glob.glob(os.path.join(\"a549_perturbation_analysis_loka/figures\", \"*.csv\"))\n",
    "# print(csv_files)\n",
    "\n",
    "perturbation_list = []\n",
    "\n",
    "csv_files = ['a549_perturbation_analysis_loka/figures/bexmarilimab_vs_control_DEGs.csv']\n",
    "for file in csv_files:\n",
    "    # print(f\"{os.path.basename(file)}\")\n",
    "    data = pd.read_csv(file, index_col=0)\n",
    "    subdata = data[ (abs(data['logfoldchanges'])>1) & (data['pvals_adj']<0.01) ]\n",
    "    gene_list = subdata['names'].tolist()\n",
    "    print(f\"找到 {len(gene_list)} 个差异表达基因\")\n",
    "    print(\"ENSG00000010327\" in gene_list)\n",
    "\n",
    "    flag = 1\n",
    "    if flag==1:\n",
    "        # 确保combined数据已加载\n",
    "        # if 'combined' not in locals():\n",
    "        #     combined = sc.read_h5ad(\"a549_combined_data.h5ad\")\n",
    "        \n",
    "        # 找出gene_list中存在于combined.var_names中的基因\n",
    "        valid_genes = [gene for gene in grok_g if gene in gene_list]\n",
    "        print(f\"在数据集中找到 {len(valid_genes)} 个有效基因\")\n",
    "        \n",
    "        # 筛选这些基因\n",
    "        gene_data = combined[combined.obs['drug'] == 'bexmarilimab']\n",
    "        gene_data = gene_data[:, valid_genes].copy()\n",
    "        print(gene_data.shape)\n",
    "\n",
    "        # 筛选基因表达大于0的细胞\n",
    "        print(\"筛选基因表达大于0的细胞...\")\n",
    "        \n",
    "        # 将X转换为密集矩阵用于筛选\n",
    "        X_temp = gene_data.X.toarray() if scipy.sparse.issparse(gene_data.X) else gene_data.X\n",
    "        \n",
    "        # 创建一个掩码，标识每个细胞中至少有一个基因表达值大于0\n",
    "        cells_with_expression = (X_temp > 0).any(axis=1)\n",
    "        \n",
    "        # 使用掩码筛选细胞\n",
    "        gene_data = gene_data[cells_with_expression]\n",
    "        \n",
    "        print(f\"筛选后的数据形状: {gene_data.shape}\")\n",
    "        print(f\"保留了 {cells_with_expression.sum()} 个有基因表达的细胞\")\n",
    "        print(f\"移除了 {len(cells_with_expression) - cells_with_expression.sum()} 个无基因表达的细胞\")\n",
    "\n",
    "        # 将X转换为密集矩阵\n",
    "        X_dense = gene_data.X.toarray() if scipy.sparse.issparse(gene_data.X) else gene_data.X\n",
    "\n",
    "        # 创建非零行的掩码\n",
    "        non_zero_mask = ~(X_dense == 0).all(axis=1)\n",
    "\n",
    "        # 使用掩码过滤数据\n",
    "        gene_data = gene_data[non_zero_mask]\n",
    "        print(f\"删除全0行后的数据形状: {gene_data.shape}\")\n",
    "\n",
    "        # 重新获取过滤后的X_dense\n",
    "        X_dense_filtered = gene_data.X.toarray() if scipy.sparse.issparse(gene_data.X) else gene_data.X\n",
    "\n",
    "        # 转换为DataFrame并保存为CSV\n",
    "        gene_df = pd.DataFrame(X_dense_filtered, index=gene_data.obs_names, columns=valid_genes)\n",
    "        print(gene_df.shape)\n",
    "        # gene_df.to_csv(f\"a549_perturbation_analysis_loka/figures_cd/bexmarilimab_perturb_5286_14.csv\")\n",
    "\n",
    "    elif flag==2:\n",
    "        # 找出gene_list中存在于combined.var_names中的基因\n",
    "        # valid_genes = [gene for gene in grok_g if gene in gene_list]\n",
    "        # print(f\"在数据集中找到 {len(valid_genes)} 个有效基因\")\n",
    "        \n",
    "        # 筛选这些基因\n",
    "        # gene_data = combined[combined.obs['drug'] == 'bexmarilimab']\n",
    "        gene_data = combined[:, gene_list].copy()\n",
    "        print(gene_data.shape)\n",
    "\n",
    "        # 筛选基因表达大于0的细胞\n",
    "        print(\"筛选基因表达大于0的细胞...\")\n",
    "        \n",
    "        # 将X转换为密集矩阵用于筛选\n",
    "        X_temp = gene_data.X.toarray() if scipy.sparse.issparse(gene_data.X) else gene_data.X\n",
    "        \n",
    "        # 创建一个掩码，标识每个细胞中至少有一个基因表达值大于0\n",
    "        cells_with_expression = (X_temp > 0).any(axis=1)\n",
    "        \n",
    "        # 使用掩码筛选细胞\n",
    "        gene_data = gene_data[cells_with_expression]\n",
    "        \n",
    "        print(f\"筛选后的数据形状: {gene_data.shape}\")\n",
    "        print(f\"保留了 {cells_with_expression.sum()} 个有基因表达的细胞\")\n",
    "        print(f\"移除了 {len(cells_with_expression) - cells_with_expression.sum()} 个无基因表达的细胞\")\n",
    "\n",
    "        # 将X转换为密集矩阵\n",
    "        X_dense = gene_data.X.toarray() if scipy.sparse.issparse(gene_data.X) else gene_data.X\n",
    "\n",
    "        # 创建非零行的掩码\n",
    "        non_zero_mask = ~(X_dense == 0).all(axis=1)\n",
    "\n",
    "        # 使用掩码过滤数据\n",
    "        gene_data = gene_data[non_zero_mask]\n",
    "        print(f\"删除全0行后的数据形状: {gene_data.shape}\")\n",
    "\n",
    "        # 重新获取过滤后的X_dense\n",
    "        X_dense_filtered = gene_data.X.toarray() if scipy.sparse.issparse(gene_data.X) else gene_data.X\n",
    "\n",
    "        # 转换为DataFrame并保存为CSV\n",
    "        gene_df = pd.DataFrame(X_dense_filtered, index=gene_data.obs_names, columns=gene_list)\n",
    "        print(gene_df.shape)\n",
    "        gene_df.to_csv(f\"a549_perturbation_analysis_loka/figures_cd/bexmarilimab_perturb_22w_9k.csv\")"
   ]
  },
  {
   "cell_type": "code",
   "execution_count": null,
   "metadata": {},
   "outputs": [],
   "source": [
    "from causallearn.search.ConstraintBased.PC import pc\n",
    "\n",
    "data = pd.read_csv(\"a549_perturbation_analysis_loka/figures_cd/bexmarilimab_perturb_5286_14.csv\", index_col=0).astype(float)\n",
    "data = data.dropna()\n",
    "data.head()"
   ]
  },
  {
   "cell_type": "code",
   "execution_count": null,
   "metadata": {},
   "outputs": [],
   "source": [
    "labels = [my_dict[i] for i in data.columns.values]\n",
    "labels, len(labels)"
   ]
  },
  {
   "cell_type": "code",
   "execution_count": null,
   "metadata": {},
   "outputs": [],
   "source": [
    "from causallearn.utils.PCUtils.BackgroundKnowledge import BackgroundKnowledge\n",
    "\n",
    "cg = pc(data.values, alpha=0.05, indep_test=\"fisherz\")\n",
    "nodes = cg.G.get_nodes()\n",
    "bk = BackgroundKnowledge()\n",
    "for i in range(1, len(nodes)):\n",
    "    bk.add_required_by_node(nodes[0], nodes[i])"
   ]
  },
  {
   "cell_type": "code",
   "execution_count": null,
   "metadata": {},
   "outputs": [],
   "source": [
    "cg = pc(data.values, alpha=0.05, indep_test=\"fisherz\", background_knowledge=bk)"
   ]
  },
  {
   "cell_type": "code",
   "execution_count": null,
   "metadata": {},
   "outputs": [],
   "source": [
    "cg.draw_pydot_graph(labels=labels)"
   ]
  }
 ],
 "metadata": {
  "kernelspec": {
   "display_name": "llk",
   "language": "python",
   "name": "python3"
  },
  "language_info": {
   "codemirror_mode": {
    "name": "ipython",
    "version": 3
   },
   "file_extension": ".py",
   "mimetype": "text/x-python",
   "name": "python",
   "nbconvert_exporter": "python",
   "pygments_lexer": "ipython3",
   "version": "3.10.16"
  }
 },
 "nbformat": 4,
 "nbformat_minor": 2
}
